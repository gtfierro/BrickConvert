{
 "cells": [
  {
   "cell_type": "code",
   "execution_count": 1,
   "metadata": {
    "collapsed": false
   },
   "outputs": [
    {
     "name": "stdout",
     "output_type": "stream",
     "text": [
      "Parsed from schema IFC2X3_TC1.exp: 653 entities and 117 types\n",
      "Parsed from file ../CIEE_2087_Addison.ifc: 156802 entities\n"
     ]
    }
   ],
   "source": [
    "from collections import defaultdict\n",
    "from ifcfilereader import *\n",
    "schema = IfcSchema(\"IFC2X3_TC1.exp\")\n",
    "f = IfcFile(\"../CIEE_2087_Addison.ifc\", schema)"
   ]
  },
  {
   "cell_type": "code",
   "execution_count": 74,
   "metadata": {
    "collapsed": true
   },
   "outputs": [],
   "source": [
    "def parseid(s):\n",
    "    if isinstance(s, str):\n",
    "        s = s.replace('#','')\n",
    "    return int(s)\n",
    "def fixname(n):\n",
    "    return n.replace(' ','_')"
   ]
  },
  {
   "cell_type": "code",
   "execution_count": 3,
   "metadata": {
    "collapsed": true
   },
   "outputs": [],
   "source": [
    "# zones\n",
    "_zones = f.entsByName[\"IFCZONE\"]\n",
    "zones = {}\n",
    "for zone in _zones:\n",
    "    z = f.getEntityById(int(zone))\n",
    "    zones[parseid(z['id'])] = z"
   ]
  },
  {
   "cell_type": "code",
   "execution_count": 85,
   "metadata": {
    "collapsed": false
   },
   "outputs": [],
   "source": [
    "# get groups\n",
    "zone2rooms = defaultdict(list)\n",
    "_groups = f.entsByName[\"IFCRELASSIGNSTOGROUP\"]\n",
    "for group in _groups:\n",
    "    group = f.getEntityById(parseid(group))\n",
    "    zoneid = parseid(group['attributes'].get('RelatingGroup'))\n",
    "    zone = zones.get(zoneid)\n",
    "    #print parseid(group['attributes'].get('RelatingGroup'))\n",
    "    if zone is None:\n",
    "        continue\n",
    "    things = group['attributes'].get('RelatedObjects')\n",
    "    for thing in things:\n",
    "        thing = f.getEntityById(parseid(thing))\n",
    "        if thing['name'] == 'IFCSPACE':\n",
    "            #print 'room', thing\n",
    "            longname = thing['attributes']['LongName']\n",
    "            name = thing['attributes']['Name']\n",
    "            zone2rooms[zoneid].append(longname+name)"
   ]
  },
  {
   "cell_type": "code",
   "execution_count": 60,
   "metadata": {
    "collapsed": false
   },
   "outputs": [
    {
     "name": "stdout",
     "output_type": "stream",
     "text": [
      "IFCBUILDINGSTOREY\n",
      "IFCSITE\n",
      "IFCBUILDING\n",
      "IFCELEMENTASSEMBLY\n",
      "IFCPROJECT\n"
     ]
    }
   ],
   "source": [
    "_groups = f.entsByName[\"IFCRELAGGREGATES\"]\n",
    "for group in _groups:\n",
    "    group = f.getEntityById(parseid(group))\n",
    "    relating_obj_id = parseid(group['attributes']['RelatingObject'])\n",
    "    print f.getEntityById(relating_obj_id)['name']"
   ]
  },
  {
   "cell_type": "code",
   "execution_count": 62,
   "metadata": {
    "collapsed": false
   },
   "outputs": [
    {
     "name": "stdout",
     "output_type": "stream",
     "text": [
      "{'attributes': {'Elevation': 0.0, 'Description': None, 'GlobalId': '1W9$dXIRj77hKpdvwqNWjI', 'CompositionType': '.ELEMENT.', 'OwnerHistory': '#41', 'LongName': 'Level 1', 'Representation': None, 'Name': 'Level 1', 'ObjectPlacement': '#132', 'ObjectType': None}, 'id': '133', 'name': 'IFCBUILDINGSTOREY'}\n",
      "{'attributes': {'Elevation': 17.1666666666667, 'Description': None, 'GlobalId': '1W9$dXIRj77hKpdvwqNYsM', 'CompositionType': '.ELEMENT.', 'OwnerHistory': '#41', 'LongName': 'Level 2', 'Representation': None, 'Name': 'Level 2', 'ObjectPlacement': '#138', 'ObjectType': None}, 'id': '139', 'name': 'IFCBUILDINGSTOREY'}\n"
     ]
    }
   ],
   "source": [
    "floors = {}\n",
    "_groups = f.entsByName[\"IFCBUILDINGSTOREY\"]\n",
    "for group in _groups:\n",
    "    group = f.getEntityById(parseid(group))\n",
    "    print group\n",
    "    floors[parseid(group['id'])] = group['attributes']['LongName']\n",
    "    continue\n",
    "    relating_obj_id = parseid(group['attributes']['RelatingObject'])\n",
    "    print f.getEntityById(relating_obj_id)['name']"
   ]
  },
  {
   "cell_type": "code",
   "execution_count": 67,
   "metadata": {
    "collapsed": false
   },
   "outputs": [],
   "source": [
    "rooms = []\n",
    "rooms2floors = defaultdict(list)\n",
    "_groups = f.entsByName[\"IFCRELAGGREGATES\"]\n",
    "for group in _groups:\n",
    "    group = f.getEntityById(parseid(group))\n",
    "    relating_obj_id = parseid(group['attributes']['RelatingObject'])\n",
    "    ent = f.getEntityById(relating_obj_id)\n",
    "    if ent['name'] == 'IFCBUILDINGSTOREY':\n",
    "        for oid in group['attributes']['RelatedObjects']:\n",
    "            o = f.getEntityById(parseid(oid))\n",
    "            room = o['attributes']['LongName']+o['attributes']['Name']\n",
    "            rooms.append(room)\n",
    "            rooms2floors[ent['attributes']['LongName']].append(room)"
   ]
  },
  {
   "cell_type": "code",
   "execution_count": 79,
   "metadata": {
    "collapsed": false
   },
   "outputs": [],
   "source": [
    "from rdflib import Graph, Namespace, URIRef, Literal\n",
    "RDF = Namespace('http://www.w3.org/1999/02/22-rdf-syntax-ns#')\n",
    "RDFS = Namespace('http://www.w3.org/2000/01/rdf-schema#')\n",
    "BRICK = Namespace('https://brickschema.org/schema/1.0.1/Brick#')\n",
    "BRICKFRAME = Namespace('https://brickschema.org/schema/1.0.1/BrickFrame#')\n",
    "BF = BRICKFRAME\n",
    "OWL = Namespace('http://www.w3.org/2002/07/owl#')\n",
    "BLDG = Namespace('http://buildsys.org/ontologies/bldg#')\n",
    "\n",
    "g = Graph()\n",
    "g.bind('rdf', RDF)\n",
    "g.bind('rdfs', RDFS)\n",
    "g.bind('brick', BRICK)\n",
    "g.bind('bf', BRICKFRAME)\n",
    "g.bind('bldg', BLDG)"
   ]
  },
  {
   "cell_type": "code",
   "execution_count": 87,
   "metadata": {
    "collapsed": false
   },
   "outputs": [],
   "source": [
    "for rm in rooms:\n",
    "    rm = fixname(rm)\n",
    "    g.add((BLDG[rm], RDF.type, BRICK.Room))\n",
    "for floor in floors.values():\n",
    "    floor = fixname(floor)\n",
    "    g.add((BLDG[floor], RDF.type, BRICK.Floor))\n",
    "for floor, roomlist in rooms2floors.items():\n",
    "    floor = fixname(floor)\n",
    "    for room in roomlist:\n",
    "        room = fixname(room)\n",
    "        g.add((BLDG[floor], BF.hasPart, BLDG[room]))\n",
    "for zone, roomlist in zone2rooms.items():\n",
    "    zone = fixname(str(zone))\n",
    "    g.add((BLDG[zone], RDF.type, BRICK.HVAC_ZONE))\n",
    "    for room in roomlist:\n",
    "        room = fixname(room)\n",
    "        g.add((BLDG[room], BF.isPartOf, BLDG[zone]))"
   ]
  },
  {
   "cell_type": "code",
   "execution_count": 88,
   "metadata": {
    "collapsed": false
   },
   "outputs": [],
   "source": [
    "g.serialize('CIEE-from-ifc.ttl',format='turtle')"
   ]
  },
  {
   "cell_type": "code",
   "execution_count": null,
   "metadata": {
    "collapsed": true
   },
   "outputs": [],
   "source": []
  }
 ],
 "metadata": {
  "kernelspec": {
   "display_name": "Python 2",
   "language": "python",
   "name": "python2"
  },
  "language_info": {
   "codemirror_mode": {
    "name": "ipython",
    "version": 2
   },
   "file_extension": ".py",
   "mimetype": "text/x-python",
   "name": "python",
   "nbconvert_exporter": "python",
   "pygments_lexer": "ipython2",
   "version": "2.7.12"
  }
 },
 "nbformat": 4,
 "nbformat_minor": 0
}
